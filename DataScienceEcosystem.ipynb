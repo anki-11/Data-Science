{
 "cells": [
  {
   "cell_type": "markdown",
   "id": "f0726231",
   "metadata": {},
   "source": [
    "# Data Science Tools and Ecosystem"
   ]
  },
  {
   "attachments": {},
   "cell_type": "markdown",
   "id": "8aabae90",
   "metadata": {},
   "source": [
    "In this notebook, Data Science Tools and Ecosystem are summarized."
   ]
  },
  {
   "cell_type": "markdown",
   "id": "c8441613",
   "metadata": {},
   "source": [
    "## Objectives:\n",
    "\n",
    "* List popular languages for Data Science\n",
    "* List commonly used libraries for Data Science\n",
    "* Data science tools\n"
   ]
  },
  {
   "cell_type": "markdown",
   "id": "61022a41",
   "metadata": {},
   "source": [
    "Some of the popular languages that Data Scientists use are:\n",
    "\n",
    "1. R\n",
    "2. Python\n",
    "3. Java\n",
    "4. Matlab"
   ]
  },
  {
   "cell_type": "markdown",
   "id": "d9035adb",
   "metadata": {},
   "source": [
    "Some of the commonly used libraries used by Data Scientists include:\n",
    "\n",
    "1. Scikit-learn\n",
    "2. TensorFlow\n",
    "3. Pytorch\n",
    "4. NumPy\n",
    "5. SciPy\n",
    "6. Pandas\n"
   ]
  },
  {
   "cell_type": "markdown",
   "id": "b18be9fe",
   "metadata": {},
   "source": [
    "|Data Science Tools|\n",
    "|------|\n",
    "|TensorFlow|\n",
    "|Apache Spark|\n",
    "|Apache hadoop|\n",
    "|Matlab|\n",
    "|Qlik|"
   ]
  },
  {
   "cell_type": "markdown",
   "id": "d723e0cb",
   "metadata": {},
   "source": [
    "Below are a few examples of evaluating arithmetic expressions in Python"
   ]
  },
  {
   "cell_type": "code",
   "execution_count": 1,
   "id": "461b3cb5",
   "metadata": {},
   "outputs": [
    {
     "name": "stdout",
     "output_type": "stream",
     "text": [
      "17\n"
     ]
    }
   ],
   "source": [
    "# This a simple arithmetic expression to mutiply then add integers\n",
    "x = (3*4)+5\n",
    "print(x)\n"
   ]
  },
  {
   "cell_type": "code",
   "execution_count": 3,
   "id": "a0fb9c70",
   "metadata": {},
   "outputs": [
    {
     "name": "stdout",
     "output_type": "stream",
     "text": [
      "8.333333333333334\n"
     ]
    }
   ],
   "source": [
    "# This will convert 200 minutes to hours by diving by 60\n",
    "y = 200/24\n",
    "print(y)"
   ]
  },
  {
   "cell_type": "markdown",
   "id": "09bba975",
   "metadata": {},
   "source": [
    "## Author\n",
    "Ankita Singh"
   ]
  },
  {
   "cell_type": "code",
   "execution_count": null,
   "id": "c1755334",
   "metadata": {},
   "outputs": [],
   "source": []
  }
 ],
 "metadata": {
  "kernelspec": {
   "display_name": "Python 3 (ipykernel)",
   "language": "python",
   "name": "python3"
  },
  "language_info": {
   "codemirror_mode": {
    "name": "ipython",
    "version": 3
   },
   "file_extension": ".py",
   "mimetype": "text/x-python",
   "name": "python",
   "nbconvert_exporter": "python",
   "pygments_lexer": "ipython3",
   "version": "3.11.4"
  }
 },
 "nbformat": 4,
 "nbformat_minor": 5
}
